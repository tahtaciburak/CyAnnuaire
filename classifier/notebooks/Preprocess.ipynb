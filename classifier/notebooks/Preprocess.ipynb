{
 "cells": [
  {
   "cell_type": "code",
   "execution_count": null,
   "metadata": {},
   "outputs": [],
   "source": [
    "from tunga.preprocessing import normalization\n",
    "import pandas as pd "
   ]
  },
  {
   "cell_type": "code",
   "execution_count": null,
   "metadata": {},
   "outputs": [],
   "source": [
    "df = pd.read_csv(\"classifier_dataset_07-01-2021.csv\")"
   ]
  },
  {
   "cell_type": "code",
   "execution_count": null,
   "metadata": {},
   "outputs": [],
   "source": [
    "processed_content = []\n",
    "processed_label = []\n",
    "\n",
    "for item in df.iterrows():\n",
    "    content = item[1].content\n",
    "    content = content.replace(\"\\n\",\" \")\n",
    "    content = content.replace(\"  \",\"\")\n",
    "    content = normalization.lowercase(content)\n",
    "    #content = normalization.remove_hashtag(content)\n",
    "    content = normalization.remove_emojis(content)\n",
    "    content = normalization.remove_url(content)\n",
    "    content = normalization.remove_mentions(content)\n",
    "    content = content.replace(\"rt \",\"\")\n",
    "    content = content.strip()\n",
    "    if len(content) > 2:\n",
    "        processed_content.append(content)\n",
    "        processed_label.append(item[1].label)"
   ]
  },
  {
   "cell_type": "code",
   "execution_count": null,
   "metadata": {},
   "outputs": [],
   "source": [
    "processed_df = pd.DataFrame({\"content\": pd.Series(processed_content), \"label\": pd.Series(processed_label)})"
   ]
  },
  {
   "cell_type": "code",
   "execution_count": null,
   "metadata": {},
   "outputs": [],
   "source": [
    "processed_df.to_csv(\"processed.csv\",index=None)"
   ]
  }
 ],
 "metadata": {
  "kernelspec": {
   "display_name": "Python 3",
   "language": "python",
   "name": "python3"
  },
  "language_info": {
   "codemirror_mode": {
    "name": "ipython",
    "version": 3
   },
   "file_extension": ".py",
   "mimetype": "text/x-python",
   "name": "python",
   "nbconvert_exporter": "python",
   "pygments_lexer": "ipython3",
   "version": "3.6.9"
  }
 },
 "nbformat": 4,
 "nbformat_minor": 2
}
