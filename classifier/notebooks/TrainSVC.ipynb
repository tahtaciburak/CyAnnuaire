{
 "cells": [
  {
   "cell_type": "code",
   "execution_count": 1,
   "metadata": {},
   "outputs": [],
   "source": [
    "from tqdm import tqdm\n",
    "import pandas as pd\n",
    "import fasttext\n",
    "import numpy as np"
   ]
  },
  {
   "cell_type": "code",
   "execution_count": 2,
   "metadata": {},
   "outputs": [
    {
     "name": "stderr",
     "output_type": "stream",
     "text": [
      "Warning : `load_model` does not return WordVectorModel or SupervisedModel any more, but a `FastText` object which is very similar.\n"
     ]
    }
   ],
   "source": [
    "model = fasttext.load_model(\"/home/burak/Desktop/cc.en.300.bin\")"
   ]
  },
  {
   "cell_type": "code",
   "execution_count": 3,
   "metadata": {},
   "outputs": [],
   "source": [
    "df = pd.read_csv(\"processed.csv\",encoding=\"utf-8\",lineterminator=\"\\n\")"
   ]
  },
  {
   "cell_type": "code",
   "execution_count": 4,
   "metadata": {
    "scrolled": false
   },
   "outputs": [
    {
     "data": {
      "text/html": [
       "<div>\n",
       "<style scoped>\n",
       "    .dataframe tbody tr th:only-of-type {\n",
       "        vertical-align: middle;\n",
       "    }\n",
       "\n",
       "    .dataframe tbody tr th {\n",
       "        vertical-align: top;\n",
       "    }\n",
       "\n",
       "    .dataframe thead th {\n",
       "        text-align: right;\n",
       "    }\n",
       "</style>\n",
       "<table border=\"1\" class=\"dataframe\">\n",
       "  <thead>\n",
       "    <tr style=\"text-align: right;\">\n",
       "      <th></th>\n",
       "      <th>content</th>\n",
       "      <th>label</th>\n",
       "    </tr>\n",
       "  </thead>\n",
       "  <tbody>\n",
       "    <tr>\n",
       "      <th>0</th>\n",
       "      <td>rt  escaping the sandbox - microsoft office in...</td>\n",
       "      <td>CYBER</td>\n",
       "    </tr>\n",
       "    <tr>\n",
       "      <th>1</th>\n",
       "      <td>office 365 biz users targeted in novel phish s...</td>\n",
       "      <td>CYBER</td>\n",
       "    </tr>\n",
       "    <tr>\n",
       "      <th>2</th>\n",
       "      <td>adobe flash player flaws remain the most used ...</td>\n",
       "      <td>CYBER</td>\n",
       "    </tr>\n",
       "    <tr>\n",
       "      <th>3</th>\n",
       "      <td>bug in mingw-w64 windows app development envir...</td>\n",
       "      <td>CYBER</td>\n",
       "    </tr>\n",
       "    <tr>\n",
       "      <th>4</th>\n",
       "      <td>threatmeter: microsoft windows 7 sp1 nfo file ...</td>\n",
       "      <td>CYBER</td>\n",
       "    </tr>\n",
       "    <tr>\n",
       "      <th>...</th>\n",
       "      <td>...</td>\n",
       "      <td>...</td>\n",
       "    </tr>\n",
       "    <tr>\n",
       "      <th>81165</th>\n",
       "      <td>so grateful for my health  what are you gratef...</td>\n",
       "      <td>NOT-CYBER</td>\n",
       "    </tr>\n",
       "    <tr>\n",
       "      <th>81166</th>\n",
       "      <td>my prayers are with paris.... i love you..</td>\n",
       "      <td>NOT-CYBER</td>\n",
       "    </tr>\n",
       "    <tr>\n",
       "      <th>81167</th>\n",
       "      <td>life couldn't be better right now.</td>\n",
       "      <td>NOT-CYBER</td>\n",
       "    </tr>\n",
       "    <tr>\n",
       "      <th>81168</th>\n",
       "      <td>first monday back in action. i'd say 21.6 mile...</td>\n",
       "      <td>NOT-CYBER</td>\n",
       "    </tr>\n",
       "    <tr>\n",
       "      <th>81169</th>\n",
       "      <td>crime shows, buddy, snuggles = the perfect sun...</td>\n",
       "      <td>NOT-CYBER</td>\n",
       "    </tr>\n",
       "  </tbody>\n",
       "</table>\n",
       "<p>81170 rows × 2 columns</p>\n",
       "</div>"
      ],
      "text/plain": [
       "                                                 content      label\n",
       "0      rt  escaping the sandbox - microsoft office in...      CYBER\n",
       "1      office 365 biz users targeted in novel phish s...      CYBER\n",
       "2      adobe flash player flaws remain the most used ...      CYBER\n",
       "3      bug in mingw-w64 windows app development envir...      CYBER\n",
       "4      threatmeter: microsoft windows 7 sp1 nfo file ...      CYBER\n",
       "...                                                  ...        ...\n",
       "81165  so grateful for my health  what are you gratef...  NOT-CYBER\n",
       "81166         my prayers are with paris.... i love you..  NOT-CYBER\n",
       "81167                 life couldn't be better right now.  NOT-CYBER\n",
       "81168  first monday back in action. i'd say 21.6 mile...  NOT-CYBER\n",
       "81169  crime shows, buddy, snuggles = the perfect sun...  NOT-CYBER\n",
       "\n",
       "[81170 rows x 2 columns]"
      ]
     },
     "execution_count": 4,
     "metadata": {},
     "output_type": "execute_result"
    }
   ],
   "source": [
    "df"
   ]
  },
  {
   "cell_type": "code",
   "execution_count": 6,
   "metadata": {},
   "outputs": [
    {
     "name": "stderr",
     "output_type": "stream",
     "text": [
      "81170it [00:13, 6140.20it/s]\n"
     ]
    }
   ],
   "source": [
    "sent_vectors = []\n",
    "for item in tqdm(df.iterrows()):\n",
    "    sent_vectors.append(model.get_sentence_vector(item[1].content))\n",
    "    \n",
    "sent_vectors = np.array(sent_vectors)"
   ]
  },
  {
   "cell_type": "code",
   "execution_count": 7,
   "metadata": {},
   "outputs": [
    {
     "name": "stderr",
     "output_type": "stream",
     "text": [
      "81170it [00:07, 11256.16it/s]\n"
     ]
    }
   ],
   "source": [
    "labels_encoded = []\n",
    "for item in tqdm(df.iterrows()):\n",
    "    if item[1].label == \"CYBER\":\n",
    "        labels_encoded.append(1)\n",
    "    else:\n",
    "        labels_encoded.append(0)\n",
    "labels_encoded=np.array(labels_encoded)"
   ]
  },
  {
   "cell_type": "code",
   "execution_count": 8,
   "metadata": {},
   "outputs": [],
   "source": [
    "from sklearn.model_selection import train_test_split\n",
    "X_train,X_test,Y_train,Y_test = train_test_split(sent_vectors,labels_encoded,test_size=0.15)"
   ]
  },
  {
   "cell_type": "code",
   "execution_count": 9,
   "metadata": {},
   "outputs": [],
   "source": [
    "from sklearn.svm import SVC\n",
    "from sklearn.preprocessing import StandardScaler\n",
    "from sklearn.pipeline import make_pipeline\n",
    "\n",
    "clf = make_pipeline(StandardScaler(), SVC(gamma='auto'))"
   ]
  },
  {
   "cell_type": "code",
   "execution_count": 10,
   "metadata": {},
   "outputs": [
    {
     "data": {
      "text/plain": [
       "Pipeline(steps=[('standardscaler', StandardScaler()),\n",
       "                ('svc', SVC(gamma='auto'))])"
      ]
     },
     "execution_count": 10,
     "metadata": {},
     "output_type": "execute_result"
    }
   ],
   "source": [
    "clf.fit(X_train, Y_train)"
   ]
  },
  {
   "cell_type": "code",
   "execution_count": 11,
   "metadata": {},
   "outputs": [
    {
     "data": {
      "text/plain": [
       "0.9729796320630749"
      ]
     },
     "execution_count": 11,
     "metadata": {},
     "output_type": "execute_result"
    }
   ],
   "source": [
    "score = clf.score(X_test, Y_test)\n",
    "score"
   ]
  },
  {
   "cell_type": "code",
   "execution_count": 12,
   "metadata": {},
   "outputs": [],
   "source": [
    "import pickle\n",
    "filename = 'svc.model'\n",
    "pickle.dump(clf, open(filename, 'wb'))\n",
    "\n",
    "# # some time later...\n",
    "\n",
    "# # load the model from disk\n",
    "# loaded_model = pickle.load(open(filename, 'rb'))\n",
    "# result = loaded_model.score(X_test, Y_test)\n",
    "# print(result)"
   ]
  },
  {
   "cell_type": "code",
   "execution_count": 16,
   "metadata": {},
   "outputs": [
    {
     "data": {
      "text/plain": [
       "array([1])"
      ]
     },
     "execution_count": 16,
     "metadata": {},
     "output_type": "execute_result"
    }
   ],
   "source": [
    "clf.predict([model.get_sentence_vector(\"today i've buy an asus laptop\")])"
   ]
  },
  {
   "cell_type": "code",
   "execution_count": null,
   "metadata": {},
   "outputs": [],
   "source": []
  }
 ],
 "metadata": {
  "kernelspec": {
   "display_name": "Python 3",
   "language": "python",
   "name": "python3"
  },
  "language_info": {
   "codemirror_mode": {
    "name": "ipython",
    "version": 3
   },
   "file_extension": ".py",
   "mimetype": "text/x-python",
   "name": "python",
   "nbconvert_exporter": "python",
   "pygments_lexer": "ipython3",
   "version": "3.6.9"
  }
 },
 "nbformat": 4,
 "nbformat_minor": 4
}
