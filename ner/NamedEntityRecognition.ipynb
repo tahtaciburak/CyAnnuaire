{
 "cells": [
  {
   "cell_type": "code",
   "execution_count": null,
   "metadata": {},
   "outputs": [],
   "source": [
    "import pandas as pd"
   ]
  },
  {
   "cell_type": "code",
   "execution_count": null,
   "metadata": {},
   "outputs": [],
   "source": [
    "df = pd.read_csv(\"all_data.csv\",sep=\"\\t\")"
   ]
  },
  {
   "cell_type": "code",
   "execution_count": null,
   "metadata": {},
   "outputs": [],
   "source": [
    "def prepare_data(x,y):\n",
    "    x_arr = x.split()\n",
    "    y_arr = y.split()\n",
    "    if len(x_arr) != len(y_arr):\n",
    "        print(\"problem\")\n",
    "        return (x,{'entities': []})\n",
    "    \n",
    "    entities = []\n",
    "    for a,b in zip(x_arr,y_arr):\n",
    "        if b != \"O\":\n",
    "            entities.append((find_start_end(x,a)[0],find_start_end(x,a)[1],b))\n",
    "    \n",
    "    data = (x,{\"entities\":entities})\n",
    "    return data\n"
   ]
  },
  {
   "cell_type": "code",
   "execution_count": null,
   "metadata": {},
   "outputs": [],
   "source": [
    "def find_start_end(string,substring):\n",
    "    start_idx = string.find(substring)\n",
    "    end_idx = start_idx + len(substring)\n",
    "    return start_idx,end_idx"
   ]
  },
  {
   "cell_type": "code",
   "execution_count": null,
   "metadata": {},
   "outputs": [],
   "source": [
    "for line in df[\"entities\"]:\n",
    "    try:\n",
    "        print(set(line.split()))\n",
    "    except:\n",
    "        pass"
   ]
  },
  {
   "cell_type": "code",
   "execution_count": null,
   "metadata": {},
   "outputs": [],
   "source": [
    "TRAIN_DATA = []\n",
    "for line,ent in zip(df[\"clean_tweet\"],df[\"entities\"]):\n",
    "    try:\n",
    "        TRAIN_DATA.append(prepare_data(line,ent))\n",
    "    except:\n",
    "        TRAIN_DATA.append(prepare_data(line,\"O \"*len(line.split())))"
   ]
  },
  {
   "cell_type": "code",
   "execution_count": null,
   "metadata": {},
   "outputs": [],
   "source": [
    "from tqdm import tqdm\n",
    "import spacy\n",
    "import random\n",
    "def train_spacy(data,iterations):\n",
    "    TRAIN_DATA = data\n",
    "    nlp = spacy.blank('en')\n",
    "    if 'ner' not in nlp.pipe_names:\n",
    "        ner = nlp.create_pipe('ner')\n",
    "        nlp.add_pipe(ner, last=True)\n",
    "       \n",
    "\n",
    "    # add labels\n",
    "    for _, annotations in TRAIN_DATA:\n",
    "         for ent in annotations.get('entities'):\n",
    "            ner.add_label(ent[2])\n",
    "\n",
    "    # get names of other pipes to disable them during training\n",
    "    other_pipes = [pipe for pipe in nlp.pipe_names if pipe != 'ner']\n",
    "    with nlp.disable_pipes(*other_pipes):  # only train NER\n",
    "        optimizer = nlp.begin_training()\n",
    "        for itn in range(iterations):\n",
    "            print(\"Statring iteration \" + str(itn))\n",
    "            random.shuffle(TRAIN_DATA)\n",
    "            losses = {}\n",
    "            for text, annotations in tqdm(TRAIN_DATA):\n",
    "                try:\n",
    "                    nlp.update(\n",
    "                        [text],  # batch of texts\n",
    "                        [annotations],  # batch of annotations\n",
    "                        drop=0.2,  # dropout - make it harder to memorise data\n",
    "                        sgd=optimizer,  # callable to update weights\n",
    "                        losses=losses)\n",
    "                except:\n",
    "                    pass\n",
    "            print(losses)\n",
    "    return nlp\n",
    "\n",
    "\n",
    "prdnlp = train_spacy(TRAIN_DATA, 20)\n",
    "modelfile = input(\"Enter your Model Name: \")\n",
    "prdnlp.to_disk(modelfile)\n"
   ]
  },
  {
   "cell_type": "code",
   "execution_count": 2,
   "metadata": {},
   "outputs": [
    {
     "name": "stdout",
     "output_type": "stream",
     "text": [
      "cve-2020-1707 0 13 ID\n",
      "linux 14 19 PRO\n",
      "kernel 20 26 PRO\n",
      "5.4.54 35 41 VER\n",
      "buffer 42 48 VUL\n",
      "overflow 49 57 VUL\n"
     ]
    }
   ],
   "source": [
    "test_text = \"CVE-2020-1707 linux kernel version 5.4.54 buffer overflow already being exploited in the wild\".lower()#input(\"Enter your testing text: \")\n",
    "doc = nlp(test_text)\n",
    "params = {}\n",
    "\n",
    "for ent in doc.ents:\n",
    "    lab = ent.label_.split(\"-\")[1]\n",
    "    if lab not in params:\n",
    "        params[lab] = ent.text\n",
    "    else:\n",
    "        params[lab] = params[lab] + \" \" + ent.text\n",
    "        \n",
    "    print(ent.text, ent.start_char, ent.end_char, ent.label_.split(\"-\")[1])\n"
   ]
  },
  {
   "cell_type": "code",
   "execution_count": null,
   "metadata": {},
   "outputs": [],
   "source": []
  }
 ],
 "metadata": {
  "kernelspec": {
   "display_name": "Python 3",
   "language": "python",
   "name": "python3"
  },
  "language_info": {
   "codemirror_mode": {
    "name": "ipython",
    "version": 3
   },
   "file_extension": ".py",
   "mimetype": "text/x-python",
   "name": "python",
   "nbconvert_exporter": "python",
   "pygments_lexer": "ipython3",
   "version": "3.6.9"
  }
 },
 "nbformat": 4,
 "nbformat_minor": 4
}
